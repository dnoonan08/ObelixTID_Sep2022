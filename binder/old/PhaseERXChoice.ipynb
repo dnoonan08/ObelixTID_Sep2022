{
 "cells": [
  {
   "cell_type": "code",
   "execution_count": 1,
   "id": "6fc5ad4f",
   "metadata": {},
   "outputs": [],
   "source": [
    "import numpy as np\n",
    "import os\n",
    "import re\n",
    "import pandas as pd\n",
    "import matplotlib as mpl\n",
    "import matplotlib.pyplot as plt\n",
    "import mplhep as hep\n",
    "plt.style.use(hep.style.CMS)"
   ]
  },
  {
   "cell_type": "code",
   "execution_count": 2,
   "id": "57392744",
   "metadata": {},
   "outputs": [],
   "source": [
    "def parse_scans(board,voltage,datecut):\n",
    "    def get_phase_from_time(fname):\n",
    "        try:\n",
    "            x=np.loadtxt(fname,delimiter=',',dtype=int)\n",
    "        except:\n",
    "            x=np.ones(15*12,dtype=int).reshape(15,12)*999\n",
    "        return x\n",
    "    def get_best_setting(err_counts):\n",
    "        best_setting_by_ch = []\n",
    "        counts_window = []\n",
    "        for i in range(15):\n",
    "            counts_window.append( err_counts[i] + err_counts[(i-1)%15] + err_counts[(i+1)%15])\n",
    "        counts_window = np.array(counts_window)\n",
    "        counts_window[ err_counts>0 ] += 255*3\n",
    "        y = (err_counts[2:-2]+err_counts[1:-3]+err_counts[3:-1]+err_counts[4:] + err_counts[:-4])\n",
    "        y[ err_counts[2:-2]>0 ] += 2555\n",
    "        best_setting = y.argmin(axis=0)+2\n",
    "        for ch in range(12):\n",
    "            best_setting_by_ch.append(best_setting[ch])\n",
    "        return np.array(best_setting_by_ch)\n",
    "\n",
    "    directory = f\"../../PhaseScans/board_{board}/voltage_{voltage}\"\n",
    "    scanDirs = os.listdir(directory)\n",
    "    \n",
    "    df=pd.DataFrame({'Timestamp':scanDirs})\n",
    "    df['PLLscan_time']=df['Timestamp'].apply(lambda x: pd.to_datetime(x,format=\"%d%b_%H%M%S\").replace(year=2022))\n",
    "    df=df.loc[df.PLLscan_time>'2022-09-26 12']\n",
    "    df.set_index('PLLscan_time',inplace=True)\n",
    "    df.sort_index(inplace=True)\n",
    "\n",
    "    allowed_capSel = np.array([  0,   1,   2,   3,   4,   5,   6,   7,   8,   9,  10,  11,  12,                                                                                                                                             \n",
    "                                  13,  14,  15,  24,  25,  26,  27,  28,  29,  30,  31,  56,  57,                                                                                                                                            \n",
    "                                  58,  59,  60,  61,  62,  63, 120, 121, 122, 123, 124, 125, 126,                                                                                                                                            \n",
    "                                  127, 248, 249, 250, 251, 252, 253, 254, 255, 504, 505, 506, 507,                                                                                                                                           \n",
    "                                  508, 509, 510, 511]) \n",
    "    \n",
    "    for i,capSel in enumerate(allowed_capSel):\n",
    "        df[f'phaseScan_1p20V_CapSel{capSel}']=df['Timestamp'].apply(lambda x: get_phase_from_time(f'../../PhaseScans/board_10/voltage_1_20/{x}/eTx_DelayScan_CapSelect_{capSel}.csv'))\n",
    "        df[f'phaseScan_1p08V_CapSel{capSel}']=df['Timestamp'].apply(lambda x: get_phase_from_time(f'../../PhaseScans/board_10/voltage_1_08/{x}/eTx_DelayScan_CapSelect_{capSel}.csv'))\n",
    "        df[f'phaseScan_1p32V_CapSel{capSel}']=df['Timestamp'].apply(lambda x: get_phase_from_time(f'../../PhaseScans/board_10/voltage_1_32/{x}/eTx_DelayScan_CapSelect_{capSel}.csv'))\n",
    "    \n",
    "        df_cap = df.copy()\n",
    "        df_cap['CapSel'] = capSel\n",
    "        df_cap['phase_scan'] = df_cap['Timestamp'].apply(lambda x: get_phase_from_time(f'{directory}/{x}/eRx_PhaseScan_CapSelect_{capSel}.csv'))\n",
    "        #err_counts = df_cap['phase_scan'].values\n",
    "        df_cap['best_phase'] = df_cap['phase_scan'].apply(lambda x: get_best_setting(x))\n",
    "        if i==0:\n",
    "            df_new = df_cap.copy()\n",
    "        else:\n",
    "            df_new = pd.concat([df_cap, df_new])\n",
    "\n",
    "                \n",
    "    df_new = df_new.reset_index()\n",
    "    return df_new"
   ]
  },
  {
   "cell_type": "code",
   "execution_count": 3,
   "id": "314e0565",
   "metadata": {},
   "outputs": [],
   "source": [
    "def parse_pll(fname):\n",
    "    _f = open(f'../../logs/{fname}')\n",
    "    _fLines = _f.read()\n",
    "    def find_match(re_string):\n",
    "        return np.array(re.findall(re_string,_fLines))\n",
    "    \n",
    "    output = {}\n",
    "\n",
    "    # cond_matches = find_match(r'09-(.*) INFO   Power: On, Voltage: (.*) V, Current: (.*) A, Temp: (.*) C, Res.: (.*) Ohms\\n09.* Word count (\\d*), error count (\\d*)')\n",
    "    # dates = pd.to_datetime(['09-'+x for x in cond_matches[:,0]])\n",
    "    \n",
    "    pll_set_matches = find_match(\"09-(.*) INFO   Good PLL settings V=(1.20):|09-(.*) INFO.     CapSel=(\\d+), V=(1.20), PUSM=(\\d)\")\n",
    "    pll_good_matches = find_match('09-(.*) INFO   Setting PLL VCO CapSelect to (\\d*) with phaseSelect settings of (\\d*),(\\d*),(\\d*),(\\d*),(\\d*),(\\d*),(\\d*),(\\d*),(\\d*),(\\d*),(\\d*),(\\d*)')\n",
    "    pll_timestamp_matches = find_match('09-(.*) INFO   Starting Power Scans \\( timestamp (.*) \\)')\n",
    "    pll_scan_time = pd.to_datetime(['09-'+x for x in pll_good_matches[:,0]])\n",
    "    pll_voltage = pll_set_matches[:,1][pll_set_matches[:,1] == '1.20']\n",
    "    pll_time = pd.to_datetime(['09-'+x for x in pll_set_matches[:,0][pll_set_matches[:,1] == '1.20']])\n",
    "    pll_ones = np.ones_like(pll_voltage,dtype=int)\n",
    "    \n",
    "    output['PLLscan_time'] = pll_scan_time\n",
    "    output['PLLscan_voltage'] = np.float32(pll_voltage)\n",
    "    output['PLLscan_choice'] = pll_good_matches[:,1]\n",
    "    # need to filter timestamps within  12:34:31 INFO   Setting PLL VCO CapSelect \n",
    "    time_ts =  pd.to_datetime(['09-'+x for x in pll_timestamp_matches[:,0]])\n",
    "    print(time_ts)\n",
    "    print(pll_time)\n",
    "    print(pll_scan_time)\n",
    "    output['PLLscan_timestamp'] = pll_timestamp_matches[:,1]\n",
    "    output['PLLscan_bestPhase'] = pll_good_matches[:,2:].tolist()\n",
    "    \n",
    "    df = pd.DataFrame.from_dict(output)\n",
    "    #df['PLLscan_bestPhase'] = pll_good_matches[:,2:].tolist()\n",
    "\n",
    "    return  df"
   ]
  },
  {
   "cell_type": "code",
   "execution_count": 4,
   "id": "017833d4",
   "metadata": {},
   "outputs": [
    {
     "name": "stdout",
     "output_type": "stream",
     "text": [
      "DatetimeIndex(['2022-09-26 12:02:57', '2022-09-26 12:29:35',\n",
      "               '2022-09-26 12:57:55', '2022-09-26 13:25:37',\n",
      "               '2022-09-26 13:52:47', '2022-09-26 14:20:38'],\n",
      "              dtype='datetime64[ns]', freq=None)\n",
      "DatetimeIndex(['2022-09-26 12:06:39', '2022-09-26 12:33:06',\n",
      "               '2022-09-26 13:01:36', '2022-09-26 13:29:14',\n",
      "               '2022-09-26 13:56:28', '2022-09-26 14:24:15'],\n",
      "              dtype='datetime64[ns]', freq=None)\n",
      "DatetimeIndex(['2022-09-26 12:08:09', '2022-09-26 12:34:31',\n",
      "               '2022-09-26 13:02:56', '2022-09-26 13:30:39',\n",
      "               '2022-09-26 13:57:54', '2022-09-26 14:25:40'],\n",
      "              dtype='datetime64[ns]', freq=None)\n"
     ]
    },
    {
     "name": "stderr",
     "output_type": "stream",
     "text": [
      "/Users/cmantill/miniconda3/envs/econ-sw/lib/python3.7/site-packages/ipykernel_launcher.py:38: PerformanceWarning: DataFrame is highly fragmented.  This is usually the result of calling `frame.insert` many times, which has poor performance.  Consider joining all columns at once using pd.concat(axis=1) instead.  To get a de-fragmented frame, use `newframe = frame.copy()`\n",
      "/Users/cmantill/miniconda3/envs/econ-sw/lib/python3.7/site-packages/ipykernel_launcher.py:39: PerformanceWarning: DataFrame is highly fragmented.  This is usually the result of calling `frame.insert` many times, which has poor performance.  Consider joining all columns at once using pd.concat(axis=1) instead.  To get a de-fragmented frame, use `newframe = frame.copy()`\n",
      "/Users/cmantill/miniconda3/envs/econ-sw/lib/python3.7/site-packages/ipykernel_launcher.py:40: PerformanceWarning: DataFrame is highly fragmented.  This is usually the result of calling `frame.insert` many times, which has poor performance.  Consider joining all columns at once using pd.concat(axis=1) instead.  To get a de-fragmented frame, use `newframe = frame.copy()`\n"
     ]
    }
   ],
   "source": [
    "voltage = \"1_20\"\n",
    "voltages = {\"1_20\":1.2,\"1_32\":1.32,\"1.08\":1.08}\n",
    "log_strs = [\n",
    "    'logFile_Chip10_CoolDown.log',\n",
    "    \n",
    "    #'logFile_Chip10_StartIrradiation.log'\n",
    "]\n",
    "df_irr = pd.concat([parse_pll(lname) for lname in log_strs])\n",
    "df_scans = parse_scans('10','1_20','2022-09-26 12')"
   ]
  },
  {
   "cell_type": "code",
   "execution_count": 5,
   "id": "c7665db1",
   "metadata": {},
   "outputs": [
    {
     "data": {
      "text/plain": [
       "Index(['PLLscan_time', 'PLLscan_voltage', 'PLLscan_choice',\n",
       "       'PLLscan_timestamp', 'PLLscan_bestPhase'],\n",
       "      dtype='object')"
      ]
     },
     "execution_count": 5,
     "metadata": {},
     "output_type": "execute_result"
    }
   ],
   "source": [
    "df_irr.columns"
   ]
  },
  {
   "cell_type": "code",
   "execution_count": 6,
   "id": "42373135",
   "metadata": {},
   "outputs": [
    {
     "data": {
      "text/plain": [
       "Index(['PLLscan_time', 'Timestamp', 'phaseScan_1p20V_CapSel0',\n",
       "       'phaseScan_1p08V_CapSel0', 'phaseScan_1p32V_CapSel0',\n",
       "       'phaseScan_1p20V_CapSel1', 'phaseScan_1p08V_CapSel1',\n",
       "       'phaseScan_1p32V_CapSel1', 'phaseScan_1p20V_CapSel2',\n",
       "       'phaseScan_1p08V_CapSel2',\n",
       "       ...\n",
       "       'phaseScan_1p32V_CapSel509', 'phaseScan_1p20V_CapSel510',\n",
       "       'phaseScan_1p08V_CapSel510', 'phaseScan_1p32V_CapSel510',\n",
       "       'phaseScan_1p20V_CapSel511', 'phaseScan_1p08V_CapSel511',\n",
       "       'phaseScan_1p32V_CapSel511', 'CapSel', 'phase_scan', 'best_phase'],\n",
       "      dtype='object', length=173)"
      ]
     },
     "execution_count": 6,
     "metadata": {},
     "output_type": "execute_result"
    }
   ],
   "source": [
    "df_scans.columns"
   ]
  },
  {
   "cell_type": "code",
   "execution_count": 7,
   "id": "95ae9fe3",
   "metadata": {},
   "outputs": [
    {
     "ename": "IndexError",
     "evalue": "index 0 is out of bounds for axis 0 with size 0",
     "output_type": "error",
     "traceback": [
      "\u001b[0;31m---------------------------------------------------------------------------\u001b[0m",
      "\u001b[0;31mIndexError\u001b[0m                                Traceback (most recent call last)",
      "\u001b[0;32m/var/folders/rz/q4rgd3pj5d7_080gshdpbq6w0000gp/T/ipykernel_42590/3907683893.py\u001b[0m in \u001b[0;36m<module>\u001b[0;34m\u001b[0m\n\u001b[1;32m      1\u001b[0m \u001b[0;31m# 1. plot the phaseSelect diagram, for the PLL setting that was actually used for that region\u001b[0m\u001b[0;34m\u001b[0m\u001b[0;34m\u001b[0m\u001b[0;34m\u001b[0m\u001b[0m\n\u001b[1;32m      2\u001b[0m \u001b[0mtimecut_irr\u001b[0m \u001b[0;34m=\u001b[0m \u001b[0mdf_irr\u001b[0m\u001b[0;34m.\u001b[0m\u001b[0mloc\u001b[0m\u001b[0;34m[\u001b[0m\u001b[0;34m(\u001b[0m\u001b[0mdf_irr\u001b[0m\u001b[0;34m.\u001b[0m\u001b[0mPLLscan_time\u001b[0m\u001b[0;34m<\u001b[0m\u001b[0;34m'2022-09-26 12'\u001b[0m\u001b[0;34m)\u001b[0m \u001b[0;34m&\u001b[0m \u001b[0;34m(\u001b[0m\u001b[0mdf_irr\u001b[0m\u001b[0;34m.\u001b[0m\u001b[0mPLLscan_time\u001b[0m\u001b[0;34m>\u001b[0m\u001b[0;34m'2022-09-26 12:34'\u001b[0m\u001b[0;34m)\u001b[0m\u001b[0;34m]\u001b[0m\u001b[0;34m\u001b[0m\u001b[0;34m\u001b[0m\u001b[0m\n\u001b[0;32m----> 3\u001b[0;31m \u001b[0mcapsel\u001b[0m \u001b[0;34m=\u001b[0m \u001b[0mint\u001b[0m\u001b[0;34m(\u001b[0m\u001b[0mtimecut_irr\u001b[0m\u001b[0;34m[\u001b[0m\u001b[0;34m'PLLscan_choice'\u001b[0m\u001b[0;34m]\u001b[0m\u001b[0;34m.\u001b[0m\u001b[0mvalues\u001b[0m\u001b[0;34m[\u001b[0m\u001b[0;36m0\u001b[0m\u001b[0;34m]\u001b[0m\u001b[0;34m)\u001b[0m\u001b[0;34m\u001b[0m\u001b[0;34m\u001b[0m\u001b[0m\n\u001b[0m\u001b[1;32m      4\u001b[0m \u001b[0mbestphase\u001b[0m \u001b[0;34m=\u001b[0m \u001b[0mnp\u001b[0m\u001b[0;34m.\u001b[0m\u001b[0marray\u001b[0m\u001b[0;34m(\u001b[0m\u001b[0;34m[\u001b[0m\u001b[0mint\u001b[0m\u001b[0;34m(\u001b[0m\u001b[0mp\u001b[0m\u001b[0;34m)\u001b[0m \u001b[0;32mfor\u001b[0m \u001b[0mp\u001b[0m \u001b[0;32min\u001b[0m \u001b[0mtimecut_irr\u001b[0m\u001b[0;34m[\u001b[0m\u001b[0;34m'PLLscan_bestPhase'\u001b[0m\u001b[0;34m]\u001b[0m\u001b[0;34m.\u001b[0m\u001b[0mvalues\u001b[0m\u001b[0;34m[\u001b[0m\u001b[0;36m0\u001b[0m\u001b[0;34m]\u001b[0m\u001b[0;34m]\u001b[0m\u001b[0;34m)\u001b[0m\u001b[0;34m\u001b[0m\u001b[0;34m\u001b[0m\u001b[0m\n\u001b[1;32m      5\u001b[0m \u001b[0mprint\u001b[0m\u001b[0;34m(\u001b[0m\u001b[0mbestphase\u001b[0m\u001b[0;34m)\u001b[0m\u001b[0;34m\u001b[0m\u001b[0;34m\u001b[0m\u001b[0m\n",
      "\u001b[0;31mIndexError\u001b[0m: index 0 is out of bounds for axis 0 with size 0"
     ]
    }
   ],
   "source": [
    "# 1. plot the phaseSelect diagram, for the PLL setting that was actually used for that region\n",
    "timecut_irr = df_irr.loc[(df_irr.PLLscan_time<'2022-09-26 12') & (df_irr.PLLscan_time>'2022-09-26 12:34')]\n",
    "capsel = int(timecut_irr['PLLscan_choice'].values[0])\n",
    "bestphase = np.array([int(p) for p in timecut_irr['PLLscan_bestPhase'].values[0]])\n",
    "print(bestphase)\n",
    "\n",
    "timecut_scans = df_scans.loc[(df_scans.PLLscan_time<'2022-09-27 23') & (df_scans.PLLscan_time>'2022-09-27 22:30')]\n",
    "phasescan = timecut_scans.loc[timecut_scans.CapSel == capsel]['phase_scan'].values\n",
    "bestphase_fromscan = timecut_scans.loc[timecut_scans.CapSel == capsel]['best_phase'].values\n",
    "print(phasescan)\n",
    "print(bestphase_fromscan)"
   ]
  },
  {
   "cell_type": "code",
   "execution_count": null,
   "id": "2021effb",
   "metadata": {},
   "outputs": [],
   "source": [
    "df_scans.PLLscan_timestamp"
   ]
  },
  {
   "cell_type": "code",
   "execution_count": null,
   "id": "27745c58",
   "metadata": {},
   "outputs": [],
   "source": [
    "df_irr.PLLscan_voltage"
   ]
  },
  {
   "cell_type": "code",
   "execution_count": null,
   "id": "b47a6e22",
   "metadata": {},
   "outputs": [],
   "source": []
  }
 ],
 "metadata": {
  "kernelspec": {
   "display_name": "Python 3 (ipykernel)",
   "language": "python",
   "name": "python3"
  },
  "language_info": {
   "codemirror_mode": {
    "name": "ipython",
    "version": 3
   },
   "file_extension": ".py",
   "mimetype": "text/x-python",
   "name": "python",
   "nbconvert_exporter": "python",
   "pygments_lexer": "ipython3",
   "version": "3.7.11"
  }
 },
 "nbformat": 4,
 "nbformat_minor": 5
}
