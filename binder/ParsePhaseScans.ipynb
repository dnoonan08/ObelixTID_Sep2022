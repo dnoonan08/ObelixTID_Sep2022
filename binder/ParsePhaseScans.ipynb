{
 "cells": [
  {
   "cell_type": "code",
   "execution_count": 1,
   "id": "a35397c7",
   "metadata": {},
   "outputs": [],
   "source": [
    "import numpy as np\n",
    "import os\n",
    "import re\n",
    "import pandas as pd\n",
    "import matplotlib as mpl\n",
    "import matplotlib.pyplot as plt\n",
    "import mplhep as hep\n",
    "plt.style.use(hep.style.CMS)\n",
    "plt.rcParams.update({'font.size': 20})\n",
    "\n",
    "from matplotlib.font_manager import FontProperties\n",
    "font = FontProperties()\n",
    "font.set_name('Times New Roman')\n",
    "plt.rcParams.update({'font.family':'serif'}) \n",
    "\n",
    "import sys\n",
    "sys.path.append( '../utils' )\n",
    "from utils import cap_bank_vals,vdict,get_tid,get_phase,get_best_setting,get_max_width"
   ]
  },
  {
   "cell_type": "markdown",
   "id": "5b6e2950",
   "metadata": {},
   "source": [
    "## Parsing phase Scans"
   ]
  },
  {
   "cell_type": "code",
   "execution_count": 2,
   "id": "3166b582",
   "metadata": {},
   "outputs": [],
   "source": [
    "def parse_scans(board,datecut='2022-09-26 14'):\n",
    "    directory = f\"../PhaseScans/board_{board}\"\n",
    "    scanDirs = []\n",
    "    for x in ['1_20']: #,'1_08','1_32']:\n",
    "        scanDirs.extend(os.listdir(f\"{directory}/voltage_{x}/\"))\n",
    "\n",
    "    df = pd.DataFrame({'timestamp':scanDirs})\n",
    "    df['time'] = df['timestamp'].apply(lambda x: pd.to_datetime(x,format=\"%d%b_%H%M%S\").replace(year=2022))\n",
    "\n",
    "    df = df.loc[df.time>datecut]\n",
    "    df.set_index('time',inplace=True)\n",
    "    df.sort_index(inplace=True)\n",
    "\n",
    "    df['TID'] = get_tid(df.index.values,board)\n",
    "    # df=df.loc[df.TID>0]                                                                                                                                                                                   \n",
    "\n",
    "    scan_strs = {\n",
    "        'eRx': 'PhaseScan',\n",
    "        'eTx': 'DelayScan',\n",
    "    }\n",
    "    for i,val in enumerate(cap_bank_vals):\n",
    "        df_cap = df.copy()\n",
    "        df_cap['capBank_val'] = val\n",
    "        for voltage in ['1_20']: #,'1_08','1_32']:\n",
    "            for scan in ['eRx','eTx']:\n",
    "                df_cap[f'{scan}Scan_{voltage}'] = df_cap['timestamp'].apply(lambda x: get_phase(scan, f'{directory}/voltage_{voltage}/{x}/{scan}_{scan_strs[scan]}_CapSelect_{val}.csv'))\n",
    "                df_cap[f'{scan}Best_{voltage}'] = df_cap[f'{scan}Scan_{voltage}'].apply(lambda x: get_best_setting(x))\n",
    "                df_cap[f'{scan}MaxWidth_{voltage}'] = df_cap[f'{scan}Scan_{voltage}'].apply(lambda x: get_max_width(x)[0])\n",
    "                df_cap[f'{scan}2ndMaxWidth_{voltage}'] = df_cap[f'{scan}Scan_{voltage}'].apply(lambda x: get_max_width(x)[1])\n",
    "\n",
    "        if i==0:\n",
    "            df_new = df_cap.copy()\n",
    "        else:\n",
    "            df_new = pd.concat([df_cap, df_new])\n",
    "\n",
    "    # df_new = df_new.reset_index()                                                                                                                                                                         \n",
    "    return df_new"
   ]
  },
  {
   "cell_type": "code",
   "execution_count": 3,
   "id": "16d76885",
   "metadata": {},
   "outputs": [],
   "source": [
    "df_scans = parse_scans('10')"
   ]
  },
  {
   "cell_type": "code",
   "execution_count": null,
   "id": "d0c6730d",
   "metadata": {},
   "outputs": [],
   "source": []
  },
  {
   "cell_type": "code",
   "execution_count": 4,
   "id": "16504fa8",
   "metadata": {},
   "outputs": [
    {
     "data": {
      "text/plain": [
       "Index(['timestamp', 'TID', 'capBank_val', 'eRxScan_1_20', 'eRxBest_1_20',\n",
       "       'eRxMaxWidth_1_20', 'eRx2ndMaxWidth_1_20', 'eTxScan_1_20',\n",
       "       'eTxBest_1_20', 'eTxMaxWidth_1_20', 'eTx2ndMaxWidth_1_20'],\n",
       "      dtype='object')"
      ]
     },
     "execution_count": 4,
     "metadata": {},
     "output_type": "execute_result"
    }
   ],
   "source": [
    "df_scans.columns"
   ]
  },
  {
   "cell_type": "code",
   "execution_count": null,
   "id": "aee228b1",
   "metadata": {},
   "outputs": [],
   "source": []
  }
 ],
 "metadata": {
  "kernelspec": {
   "display_name": "Python 3 (ipykernel)",
   "language": "python",
   "name": "python3"
  },
  "language_info": {
   "codemirror_mode": {
    "name": "ipython",
    "version": 3
   },
   "file_extension": ".py",
   "mimetype": "text/x-python",
   "name": "python",
   "nbconvert_exporter": "python",
   "pygments_lexer": "ipython3",
   "version": "3.7.11"
  }
 },
 "nbformat": 4,
 "nbformat_minor": 5
}
